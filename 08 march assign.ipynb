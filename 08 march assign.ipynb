{
 "cells": [
  {
   "cell_type": "raw",
   "id": "1b1ec4fe-6188-4209-a801-73661eceb272",
   "metadata": {},
   "source": [
    "Q1. What is the Probability density function?\n",
    "\n",
    "Ans:\n",
    "In statistics, the probability density function (PDF) is a function that describes the relative likelihood of different outcomes in a continuous random variable. The PDF represents the probability distribution of the variable.\n",
    "\n",
    "\n"
   ]
  },
  {
   "cell_type": "raw",
   "id": "1db7e6c8-9279-463e-afbb-fb6a9adda565",
   "metadata": {},
   "source": [
    "Q2. What are the types of Probability distribution?\n",
    "\n",
    "Ans:\n",
    "Uniform Distribution,Normal Distribution,Binomial Distribution, Poisson Distribution ,Exponential Distribution , Chi-Square Distribution ,Student's t-Distribution ,F-Distribution\n",
    "\n",
    "\n",
    "\n",
    "\n"
   ]
  },
  {
   "cell_type": "raw",
   "id": "b448e9ef-2eaf-4798-a105-4e55d2064431",
   "metadata": {},
   "source": [
    "Q3. Write a Python function to calculate the probability density function of a normal distribution with\n",
    "given mean and standard deviation at a given point."
   ]
  },
  {
   "cell_type": "code",
   "execution_count": 5,
   "id": "c3e43326-6235-4880-a2d3-218027c66d57",
   "metadata": {},
   "outputs": [
    {
     "name": "stdout",
     "output_type": "stream",
     "text": [
      "0.12951759566589174\n"
     ]
    }
   ],
   "source": [
    "import math\n",
    "\n",
    "def normal_pdf(x, mean, std_dev):\n",
    "    coefficient = 1 / (std_dev * math.sqrt(2 * math.pi))\n",
    "    exponent = -((x - mean) ** 2) / (2 * std_dev ** 2)\n",
    "    pdf = coefficient * math.exp(exponent)\n",
    "    return pdf\n",
    "mean = 0  # Mean of the normal distribution\n",
    "std_dev = 1  # Standard deviation of the normal distribution\n",
    "x = 1.5  # Point at which to calculate the PDF\n",
    "\n",
    "pdf_value = normal_pdf(x, mean, std_dev)\n",
    "print(pdf_value)\n"
   ]
  },
  {
   "cell_type": "code",
   "execution_count": null,
   "id": "6339de0b-07c7-44ca-87dd-a2664f15f8a5",
   "metadata": {},
   "outputs": [],
   "source": []
  },
  {
   "cell_type": "raw",
   "id": "39349acb-880a-4908-b206-13cba72c1395",
   "metadata": {},
   "source": [
    "Q4. What are the properties of Binomial distribution? Give two examples of events where binomial\n",
    "distribution can be applied.\n",
    "\n",
    "Ans:\n",
    "Fixed number of trials: The distribution models a fixed number of independent trials, denoted by \"n.\"\n",
    "\n",
    "Two possible outcomes: Each trial must have only two possible outcomes, commonly referred to as success and failure.\n",
    "\n",
    "Independent trials: Each trial is assumed to be independent of the others, meaning that the outcome of one trial does not affect the outcome of any other trial.\n",
    "\n",
    "Constant probability: The probability of success, denoted by \"p,\" remains constant for each trial. The probability of failure is given by q = 1 - p.\n",
    "\n",
    "Discrete distribution: The binomial distribution is a discrete probability distribution, meaning it deals with discrete outcomes \n",
    "\n",
    "Two examples of events where the binomial distribution can be applied are:\n",
    "\n",
    "Coin Flips: Consider a scenario where you flip a fair coin 10 times and want to know the probability of getting exactly 7 heads\n",
    "Product Defects: Suppose you work in a manufacturing plant that produces a certain type of product. You want to analyze the probability of having a certain number of defective products in a batch of 100 items\n",
    "\n",
    "\n",
    "\n"
   ]
  },
  {
   "cell_type": "raw",
   "id": "1abee94e-4248-44ee-873a-661d104c4973",
   "metadata": {},
   "source": [
    "Q5. Generate a random sample of size 1000 from a binomial distribution with probability of success 0.4\n",
    "and plot a histogram of the results using matplotlib."
   ]
  },
  {
   "cell_type": "code",
   "execution_count": 6,
   "id": "bcb24538-ac5b-4190-9373-ab1c5f613aae",
   "metadata": {},
   "outputs": [
    {
     "data": {
      "image/png": "[encoded data removed]",
      "text/plain": [
       "<Figure size 640x480 with 1 Axes>"
      ]
     },
     "metadata": {},
     "output_type": "display_data"
    }
   ],
   "source": [
    "import pandas as pd\n",
    "import numpy as np\n",
    "import matplotlib.pyplot as plt\n",
    "\n",
    "np.random.seed(42)\n",
    "\n",
    "sample_size = 1000\n",
    "probability_of_success = 0.4\n",
    "sample = np.random.binomial(1, probability_of_success, sample_size)\n",
    "\n",
    "plt.hist(sample, bins=2, edgecolor='black')\n",
    "\n",
    "plt.show()"
   ]
  },
  {
   "cell_type": "code",
   "execution_count": null,
   "id": "e4ac1aa2-8e37-4a28-8247-34772696d6b7",
   "metadata": {},
   "outputs": [],
   "source": []
  },
  {
   "cell_type": "raw",
   "id": "3eb3cc03-3d5a-4ade-ba94-b0f0daf5e484",
   "metadata": {},
   "source": [
    "Q6. Write a Python function to calculate the cumulative distribution function of a Poisson distribution\n",
    "with given mean at a given point."
   ]
  },
  {
   "cell_type": "code",
   "execution_count": 2,
   "id": "041172e2-d4de-4c38-ba63-a9aa04d7d072",
   "metadata": {},
   "outputs": [
    {
     "data": {
      "text/plain": [
       "0.2650259152973617"
      ]
     },
     "execution_count": 2,
     "metadata": {},
     "output_type": "execute_result"
    }
   ],
   "source": [
    "import math\n",
    "def poisson_cdf(mean, point):\n",
    "\n",
    "\n",
    "    return sum(math.exp(-mean) * mean ** k / math.factorial(k) for k in range(point + 1))\n",
    "poisson_cdf(5, 3)\n"
   ]
  },
  {
   "cell_type": "code",
   "execution_count": null,
   "id": "edf223cd-46e1-44ee-91f3-81f7dad4e2a0",
   "metadata": {},
   "outputs": [],
   "source": []
  },
  {
   "cell_type": "raw",
   "id": "3f4a2ac7-42af-47c5-af60-688a58a2e493",
   "metadata": {},
   "source": [
    "Q7. How Binomial distribution different from Poisson distribution?\n",
    "\n",
    "Ans:\n",
    "Binomial Distribution: The binomial distribution describes the probability of obtaining a certain number of successes in a fixed number of independent Bernoulli trials (experiments with two possible outcomes: success or failure) under specific conditions. It is used when there are a fixed number of trials and each trial has a constant probability of success.\n",
    "\n",
    "Poisson Distribution: The Poisson distribution describes the probability of a given number of events occurring in a fixed interval of time or space. It is used when the events occur randomly and independently with an average rate or intensity.\n",
    "\n",
    "\n",
    "\n",
    "\n"
   ]
  },
  {
   "cell_type": "raw",
   "id": "1f4bbe8d-ab79-4a76-9305-cbcdba11f6a8",
   "metadata": {},
   "source": [
    "Q8. Generate a random sample of size 1000 from a Poisson distribution with mean 5 and calculate the\n",
    "sample mean and variance.\n",
    "\n",
    "Ans:"
   ]
  },
  {
   "cell_type": "code",
   "execution_count": 3,
   "id": "6d0286c6-eaa0-412a-bd3e-1dfac870d989",
   "metadata": {},
   "outputs": [
    {
     "name": "stdout",
     "output_type": "stream",
     "text": [
      "4.906 4.865164000000001\n"
     ]
    }
   ],
   "source": [
    "import numpy as np\n",
    "\n",
    "sample = np.random.poisson(5, 1000)\n",
    "sample_mean = np.mean(sample)\n",
    "sample_variance = np.var(sample)\n",
    "\n",
    "print(sample_mean,sample_variance)"
   ]
  },
  {
   "cell_type": "raw",
   "id": "20535711-5688-4110-8e72-ed240af4b985",
   "metadata": {},
   "source": [
    "Q9. How mean and variance are related in Binomial distribution and Poisson distribution?\n",
    "\n",
    "Ans:\n",
    "In the Binomial distribution, the variance depends on the number of trials, the probability of success, and the probability of failure.\n",
    "\n",
    "In the Poisson distribution, the variance is equal to the mean and rate parameter, which represents the average number of events in a fixed interval.\n",
    "\n"
   ]
  },
  {
   "cell_type": "raw",
   "id": "7467bdb3-2cde-45f0-875b-d07e9dffabc5",
   "metadata": {},
   "source": [
    "Q10. In normal distribution with respect to mean position, where does the least frequent data appear?\n",
    "\n",
    "Ans:\n",
    "In a standard normal distribution (a normal distribution with a mean of 0 and a standard deviation of 1), approximately 68% of the data falls within one standard deviation of the mean, 95% falls within two standard deviations, and 99.7% falls within three standard deviations. This implies that the remaining 32%, 5%, and 0.3% respectively are distributed in the tails of the distribution.\n",
    "\n",
    "Since the normal distribution is symmetric, the least frequent data points appear in the tails on both sides of the mean. These tails represent the extreme values that are far away from the mean. The farther away from the mean, the less frequent the data points are within a normal distribution."
   ]
  },
  {
   "cell_type": "code",
   "execution_count": null,
   "id": "df23b7c8-8f28-4509-8844-5c13f06b1c5a",
   "metadata": {},
   "outputs": [],
   "source": []
  },
  {
   "cell_type": "code",
   "execution_count": null,
   "id": "ff7727f3-2910-4442-9586-63e9b2f15745",
   "metadata": {},
   "outputs": [],
   "source": []
  }
 ],
 "metadata": {
  "kernelspec": {
   "display_name": "Python 3 (ipykernel)",
   "language": "python",
   "name": "python3"
  },
  "language_info": {
   "codemirror_mode": {
    "name": "ipython",
    "version": 3
   },
   "file_extension": ".py",
   "mimetype": "text/x-python",
   "name": "python",
   "nbconvert_exporter": "python",
   "pygments_lexer": "ipython3",
   "version": "3.10.8"
  }
 },
 "nbformat": 4,
 "nbformat_minor": 5
}
